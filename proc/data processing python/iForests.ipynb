{
 "cells": [
  {
   "cell_type": "code",
   "execution_count": 1,
   "metadata": {},
   "outputs": [
    {
     "name": "stderr",
     "output_type": "stream",
     "text": [
      "/Library/Frameworks/Python.framework/Versions/3.6/lib/python3.6/site-packages/sklearn/ensemble/weight_boosting.py:29: DeprecationWarning: numpy.core.umath_tests is an internal NumPy module and should not be imported. It will be removed in a future NumPy release.\n",
      "  from numpy.core.umath_tests import inner1d\n"
     ]
    }
   ],
   "source": [
    "import pandas as pd\n",
    "import numpy as np\n",
    "import matplotlib.dates as md\n",
    "import matplotlib.pyplot as plt\n",
    "from mpl_toolkits.axes_grid1 import host_subplot\n",
    "import mpl_toolkits.axisartist as AA\n",
    "from sklearn.preprocessing import StandardScaler\n",
    "from sklearn.decomposition import PCA\n",
    "from sklearn.cluster import KMeans\n",
    "from sklearn.covariance import EllipticEnvelope\n",
    "from sklearn.ensemble import IsolationForest\n",
    "from sklearn.svm import OneClassSVM\n",
    "from mpl_toolkits.mplot3d import Axes3D\n",
    "%matplotlib inline"
   ]
  },
  {
   "cell_type": "code",
   "execution_count": 36,
   "metadata": {},
   "outputs": [
    {
     "name": "stderr",
     "output_type": "stream",
     "text": [
      "/Library/Frameworks/Python.framework/Versions/3.6/lib/python3.6/site-packages/scipy/stats/stats.py:1706: FutureWarning: Using a non-tuple sequence for multidimensional indexing is deprecated; use `arr[tuple(seq)]` instead of `arr[seq]`. In the future this will be interpreted as an array index, `arr[np.array(seq)]`, which will result either in an error or a different result.\n",
      "  return np.add.reduce(sorted[indexer] * weights, axis=axis) / sumval\n",
      "/Library/Frameworks/Python.framework/Versions/3.6/lib/python3.6/site-packages/numpy/core/fromnumeric.py:56: FutureWarning: reshape is deprecated and will raise in a subsequent release. Please use .values.reshape(...) instead\n",
      "  return getattr(obj, method)(*args, **kwds)\n"
     ]
    },
    {
     "data": {
      "image/png": "[encoded data removed]",
      "text/plain": [
       "<matplotlib.figure.Figure at 0x11e16fc88>"
      ]
     },
     "metadata": {
      "needs_background": "light"
     },
     "output_type": "display_data"
    },
    {
     "name": "stdout",
     "output_type": "stream",
     "text": [
      "16    2016/9/1 16:00\n",
      "19    2016/9/1 19:00\n",
      "19    2016/9/1 19:00\n",
      "27    2016/9/2 03:00\n",
      "43    2016/9/2 19:00\n",
      "12    2016/9/1 12:00\n",
      "20    2016/9/1 20:00\n",
      "45    2016/9/2 21:00\n",
      "16    2016/9/1 16:00\n",
      "20    2016/9/1 20:00\n",
      "12    2016/9/1 12:00\n",
      "16    2016/9/1 16:00\n",
      "16    2016/9/1 16:00\n",
      "31    2016/9/2 07:00\n",
      "27    2016/9/2 03:00\n",
      "20    2016/9/1 20:00\n",
      "12    2016/9/1 12:00\n",
      "34    2016/9/2 10:00\n",
      "18    2016/9/1 18:00\n",
      "12    2016/9/1 12:00\n",
      "28    2016/9/2 04:00\n",
      "21    2016/9/1 21:00\n",
      "32    2016/9/2 08:00\n",
      "12    2016/9/1 12:00\n",
      "18    2016/9/1 18:00\n",
      "23    2016/9/1 23:00\n",
      "18    2016/9/1 18:00\n",
      "54    2016/9/3 06:00\n",
      "54    2016/9/3 06:00\n",
      "19    2016/9/1 19:00\n",
      "29    2016/9/2 05:00\n",
      "30    2016/9/2 06:00\n",
      "12    2016/9/1 12:00\n",
      "29    2016/9/2 05:00\n",
      "20    2016/9/1 20:00\n",
      "12    2016/9/1 12:00\n",
      "18    2016/9/1 18:00\n",
      "17    2016/9/1 17:00\n",
      "74    2016/9/4 02:00\n",
      "12    2016/9/1 12:00\n",
      "Name: timestamp, dtype: object\n"
     ]
    }
   ],
   "source": [
    "file='data.csv'\n",
    "data = pd.read_csv(file)\n",
    "df = data[['count']]\n",
    "scaler = StandardScaler()\n",
    "np_scaled = scaler.fit_transform(df)\n",
    "data = pd.DataFrame(np_scaled)\n",
    "outliers_fraction = 0.05\n",
    "# train isolation forest\n",
    "model =  IsolationForest(contamination=outliers_fraction)\n",
    "model.fit(data)\n",
    "res = pd.Series(model.predict(data))\n",
    "res.unique()\n",
    "# visualisation of anomaly with avg price repartition\n",
    "a = df.loc[res == 1, 'count']\n",
    "b = df.loc[res == -1, 'count']\n",
    "\n",
    "fig, axs = plt.subplots(figsize=(10,6))\n",
    "axs.hist([a,b], bins=32, stacked=True, color=['blue', 'red'])\n",
    "plt.show();\n",
    "data = pd.read_csv(file)\n",
    "ts = data['timestamp']\n",
    "print(ts[df.loc[res==-1,'count']])"
   ]
  }
 ],
 "metadata": {
  "kernelspec": {
   "display_name": "Python 3",
   "language": "python",
   "name": "python3"
  },
  "language_info": {
   "codemirror_mode": {
    "name": "ipython",
    "version": 3
   },
   "file_extension": ".py",
   "mimetype": "text/x-python",
   "name": "python",
   "nbconvert_exporter": "python",
   "pygments_lexer": "ipython3",
   "version": "3.6.3"
  }
 },
 "nbformat": 4,
 "nbformat_minor": 2
}
